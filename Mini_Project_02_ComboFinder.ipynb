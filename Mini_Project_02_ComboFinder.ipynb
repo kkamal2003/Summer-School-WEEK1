{
  "nbformat": 4,
  "nbformat_minor": 0,
  "metadata": {
    "colab": {
      "provenance": [],
      "include_colab_link": true
    },
    "kernelspec": {
      "display_name": "Python 3",
      "language": "python",
      "name": "python3"
    },
    "language_info": {
      "codemirror_mode": {
        "name": "ipython",
        "version": 3
      },
      "file_extension": ".py",
      "mimetype": "text/x-python",
      "name": "python",
      "nbconvert_exporter": "python",
      "pygments_lexer": "ipython3",
      "version": "3.8.5"
    }
  },
  "cells": [
    {
      "cell_type": "markdown",
      "metadata": {
        "id": "view-in-github",
        "colab_type": "text"
      },
      "source": [
        "<a href=\"https://colab.research.google.com/github/kkamal2003/Summer-School-WEEK1/blob/main/Mini_Project_02_ComboFinder.ipynb\" target=\"_parent\"><img src=\"https://colab.research.google.com/assets/colab-badge.svg\" alt=\"Open In Colab\"/></a>"
      ]
    },
    {
      "cell_type": "markdown",
      "metadata": {
        "id": "7nQSRI4Dim1Y"
      },
      "source": [
        "  ---\n",
        "# **ComboFinder**\n",
        "---\n",
        "####**Problem Statement:**\n",
        "Find all the list of products whose sum-of-price is between 290 and 310.\n",
        "\n",
        "ProductList = {'p1':10, 'p2':15, 'p3':20, 'p4':25, 'p5':30, 'p6':35, 'p7':50,\n",
        "            'p8':40, 'p9':55, 'p10':60, 'p11':65, 'p12':75, 'p13':70,\n",
        "            'p14':45}\n",
        "\n",
        "---"
      ]
    },
    {
      "cell_type": "code",
      "source": [
        "import random as r\n",
        "product = {'p1':10, 'p2':15, 'p3':20, 'p4':25, 'p5':30, 'p6':35, 'p7':50,\n",
        "            'p8':40, 'p9':55, 'p10':60, 'p11':65, 'p12':75, 'p13':70,\n",
        "            'p14':45}\n",
        "lb = 290\n",
        "ub = 310\n",
        "result = set()\n",
        "n = 1000;\n",
        "for i in range(n):\n",
        "  size = r.randint(2,len(product)-1)\n",
        "  combo = r.sample(list(product.keys()),size)\n",
        "  combosum = sum([product[i] for i in combo])\n",
        "  if combosum>=290 and combosum<=310:\n",
        "    result.add(tuple(combo))\n",
        "\n",
        "for i in result:\n",
        "  print(i);\n",
        "\n",
        "print(\"Total subsets : \",len(result))\n"
      ],
      "metadata": {
        "colab": {
          "base_uri": "https://localhost:8080/"
        },
        "id": "IMXKyp79Yvke",
        "outputId": "dcebd5e6-c9c6-4861-c90a-95863c00a68a"
      },
      "execution_count": 7,
      "outputs": [
        {
          "output_type": "stream",
          "name": "stdout",
          "text": [
            "('p13', 'p2', 'p6', 'p1', 'p10', 'p4', 'p11', 'p3')\n",
            "('p10', 'p7', 'p8', 'p12', 'p11')\n",
            "('p4', 'p13', 'p7', 'p9', 'p12', 'p3')\n",
            "('p8', 'p11', 'p13', 'p7', 'p9', 'p3')\n",
            "('p10', 'p7', 'p6', 'p12', 'p2', 'p11')\n",
            "('p6', 'p13', 'p14', 'p12', 'p1', 'p5', 'p4')\n",
            "('p13', 'p4', 'p3', 'p1', 'p7', 'p9', 'p10')\n",
            "('p4', 'p7', 'p2', 'p3', 'p9', 'p12', 'p10')\n",
            "('p3', 'p1', 'p10', 'p14', 'p5', 'p8', 'p6', 'p11')\n",
            "('p9', 'p8', 'p3', 'p11', 'p4', 'p14', 'p5', 'p2', 'p1')\n",
            "('p2', 'p14', 'p11', 'p5', 'p4', 'p10', 'p9')\n",
            "('p5', 'p3', 'p9', 'p4', 'p10', 'p8', 'p1', 'p7')\n",
            "('p8', 'p6', 'p7', 'p9', 'p11', 'p3', 'p4')\n",
            "('p10', 'p8', 'p14', 'p9', 'p12', 'p4')\n",
            "('p2', 'p6', 'p12', 'p9', 'p1', 'p11', 'p7')\n",
            "('p4', 'p13', 'p6', 'p12', 'p5', 'p11')\n",
            "('p1', 'p5', 'p11', 'p7', 'p14', 'p9', 'p6')\n",
            "('p9', 'p8', 'p14', 'p4', 'p13', 'p11')\n",
            "('p10', 'p6', 'p12', 'p3', 'p13', 'p8')\n",
            "('p14', 'p3', 'p10', 'p7', 'p6', 'p2', 'p12')\n",
            "('p2', 'p4', 'p14', 'p11', 'p5', 'p10', 'p1', 'p9')\n",
            "('p3', 'p9', 'p5', 'p11', 'p14', 'p2', 'p12')\n",
            "('p2', 'p10', 'p4', 'p6', 'p9', 'p13', 'p14')\n",
            "('p9', 'p5', 'p11', 'p1', 'p12', 'p4', 'p7')\n",
            "('p13', 'p10', 'p2', 'p14', 'p7', 'p9')\n",
            "('p7', 'p2', 'p6', 'p1', 'p4', 'p11', 'p9', 'p14')\n",
            "('p3', 'p1', 'p11', 'p10', 'p4', 'p14', 'p13')\n",
            "('p10', 'p14', 'p8', 'p1', 'p13', 'p9', 'p4')\n",
            "('p5', 'p11', 'p10', 'p8', 'p14', 'p7', 'p2')\n",
            "('p4', 'p7', 'p9', 'p13', 'p12', 'p2')\n",
            "('p10', 'p3', 'p12', 'p13', 'p7', 'p4')\n",
            "('p13', 'p5', 'p12', 'p11', 'p7', 'p2')\n",
            "('p12', 'p9', 'p8', 'p14', 'p5', 'p11')\n",
            "('p4', 'p5', 'p7', 'p10', 'p2', 'p9', 'p3', 'p1', 'p14')\n",
            "('p9', 'p2', 'p8', 'p1', 'p13', 'p14', 'p5', 'p4')\n",
            "('p11', 'p2', 'p1', 'p10', 'p7', 'p5', 'p14', 'p3')\n",
            "('p1', 'p14', 'p2', 'p6', 'p11', 'p13', 'p7')\n",
            "('p13', 'p2', 'p3', 'p10', 'p12', 'p14', 'p1')\n",
            "('p12', 'p7', 'p13', 'p4', 'p6', 'p9')\n",
            "('p10', 'p14', 'p13', 'p5', 'p1', 'p3', 'p2', 'p6', 'p4')\n",
            "('p2', 'p12', 'p1', 'p6', 'p13', 'p8', 'p3', 'p5')\n",
            "('p5', 'p9', 'p10', 'p2', 'p1', 'p8', 'p14', 'p6')\n",
            "('p4', 'p3', 'p6', 'p2', 'p5', 'p13', 'p11', 'p8')\n",
            "('p11', 'p2', 'p13', 'p10', 'p8', 'p4', 'p5')\n",
            "('p2', 'p8', 'p13', 'p6', 'p7', 'p10', 'p4')\n",
            "('p12', 'p2', 'p13', 'p9', 'p4', 'p11')\n",
            "('p12', 'p1', 'p10', 'p4', 'p9', 'p11')\n",
            "('p7', 'p11', 'p2', 'p13', 'p1', 'p5', 'p10')\n",
            "('p7', 'p9', 'p11', 'p1', 'p8', 'p3', 'p5', 'p6')\n",
            "('p4', 'p1', 'p6', 'p12', 'p14', 'p7', 'p9')\n",
            "('p5', 'p7', 'p10', 'p11', 'p8', 'p14')\n",
            "('p10', 'p12', 'p4', 'p11', 'p9', 'p5')\n",
            "('p4', 'p5', 'p10', 'p1', 'p11', 'p14', 'p9')\n",
            "Total subsets :  53\n"
          ]
        }
      ]
    }
  ]
}