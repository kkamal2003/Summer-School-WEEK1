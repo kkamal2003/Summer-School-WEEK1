{
  "nbformat": 4,
  "nbformat_minor": 0,
  "metadata": {
    "colab": {
      "provenance": [],
      "include_colab_link": true
    },
    "kernelspec": {
      "display_name": "Python 3",
      "language": "python",
      "name": "python3"
    },
    "language_info": {
      "codemirror_mode": {
        "name": "ipython",
        "version": 3
      },
      "file_extension": ".py",
      "mimetype": "text/x-python",
      "name": "python",
      "nbconvert_exporter": "python",
      "pygments_lexer": "ipython3",
      "version": "3.8.5"
    }
  },
  "cells": [
    {
      "cell_type": "markdown",
      "metadata": {
        "id": "view-in-github",
        "colab_type": "text"
      },
      "source": [
        "<a href=\"https://colab.research.google.com/github/kkamal2003/Summer-School-WEEK1/blob/main/Mini_Project_01_Subset_Selection_Problem.ipynb\" target=\"_parent\"><img src=\"https://colab.research.google.com/assets/colab-badge.svg\" alt=\"Open In Colab\"/></a>"
      ]
    },
    {
      "cell_type": "markdown",
      "metadata": {
        "id": "7nQSRI4Dim1Y"
      },
      "source": [
        "  ---\n",
        "# **Subset Selection Problem**\n",
        "---\n",
        "####**1. Problem Statement:**\n",
        "Find all the subsets from a set of numbers whose sum is zero.\n",
        "\n",
        "####**Constraint: Subset size must be 5**\n",
        "Set={-12, -3, -6, 7, 2, -2, 6, 3, 9, -7, -5, -8, 1, 11, -9, -4}\n",
        "\n",
        "---"
      ]
    },
    {
      "cell_type": "markdown",
      "metadata": {
        "id": "E3BNV7YLim12"
      },
      "source": [
        "---\n",
        "### **1 Complete Program**\n",
        "---"
      ]
    },
    {
      "cell_type": "code",
      "source": [
        "import random as r \n",
        "s = {-12, -3, -6, 7, 2, -2, 6, 3, 9, -7, -5, -8, 1, 11, -9, -4}\n",
        "size = 5;\n",
        "result = set()\n",
        "n =  1000;\n",
        "for i in range(n):\n",
        "  m = r.sample(s,size)\n",
        "  if(sum(m)==0):\n",
        "    result.add(tuple(m))\n",
        "\n",
        "for i in result:\n",
        "  print(i)\n",
        "\n",
        "print(\"Total subsets: \",len(result))"
      ],
      "metadata": {
        "colab": {
          "base_uri": "https://localhost:8080/"
        },
        "id": "12y7STghSbZP",
        "outputId": "8b185ef8-62d1-4fc4-b5b5-1cac1993002c"
      },
      "execution_count": 16,
      "outputs": [
        {
          "output_type": "stream",
          "name": "stdout",
          "text": [
            "(-3, -5, -2, 1, 9)\n",
            "(3, -6, -7, 9, 1)\n",
            "(-5, 1, -6, 3, 7)\n",
            "(9, -9, -4, 11, -7)\n",
            "(7, 9, -5, -4, -7)\n",
            "(-4, 6, 9, -9, -2)\n",
            "(6, -3, -5, -9, 11)\n",
            "(-7, 11, 3, -9, 2)\n",
            "(7, -7, -6, 9, -3)\n",
            "(9, -7, -9, 11, -4)\n",
            "(-2, 1, -3, 11, -7)\n",
            "(1, -5, -7, 9, 2)\n",
            "(9, -8, 6, -9, 2)\n",
            "(-2, -5, 3, 11, -7)\n",
            "(-12, 6, 9, -4, 1)\n",
            "(-9, 1, -2, 3, 7)\n",
            "(3, 2, -12, -2, 9)\n",
            "(7, -5, 6, -9, 1)\n",
            "(1, 2, -6, 7, -4)\n",
            "(9, 6, -12, 3, -6)\n",
            "(9, 7, -9, -2, -5)\n",
            "(2, -6, 6, -9, 7)\n",
            "(2, -7, 9, -5, 1)\n",
            "(3, -9, 2, -5, 9)\n",
            "(3, -3, 1, -12, 11)\n",
            "(7, -6, -3, 11, -9)\n",
            "(-6, -3, 2, 11, -4)\n",
            "(-7, -9, 3, 11, 2)\n",
            "(2, -9, 3, 11, -7)\n",
            "(-2, 2, -3, 7, -4)\n",
            "(6, -12, -2, 7, 1)\n",
            "(-8, 2, 6, 7, -7)\n",
            "Total subsets:  32\n"
          ]
        },
        {
          "output_type": "stream",
          "name": "stderr",
          "text": [
            "<ipython-input-16-2e06ec4a4bb2>:7: DeprecationWarning: Sampling from a set deprecated\n",
            "since Python 3.9 and will be removed in a subsequent version.\n",
            "  m = r.sample(s,size)\n"
          ]
        }
      ]
    },
    {
      "cell_type": "markdown",
      "metadata": {
        "id": "stxrIcZtk4LT"
      },
      "source": [
        "---\n",
        "### **2 Complete Program with sorting**\n",
        "---"
      ]
    },
    {
      "cell_type": "code",
      "metadata": {
        "colab": {
          "base_uri": "https://localhost:8080/"
        },
        "outputId": "0fb74faf-1503-47f6-aae8-09953e54e075",
        "id": "zzblepy0k4LU"
      },
      "source": [
        "import random as r \n",
        "s = {-12, -3, -6, 7, 2, -2, 6, 3, 9, -7, -5, -8, 1, 11, -9, -4}\n",
        "size = 5;\n",
        "result = set()\n",
        "n =  1000;\n",
        "for i in range(n):\n",
        "  m = r.sample(s,size)\n",
        "  m.sort()\n",
        "  if(sum(m)==0):\n",
        "    result.add(tuple(m))\n",
        "\n",
        "for i in result:\n",
        "  print(i)\n",
        "\n",
        "print(\"Total subsets: \",len(result))"
      ],
      "execution_count": 17,
      "outputs": [
        {
          "output_type": "stream",
          "name": "stdout",
          "text": [
            "(-12, -6, 3, 6, 9)\n",
            "(-7, -4, -2, 6, 7)\n",
            "(-12, -6, 1, 6, 11)\n",
            "(-9, -8, -3, 9, 11)\n",
            "(-8, -4, -3, 6, 9)\n",
            "(-5, -4, 1, 2, 6)\n",
            "(-9, -2, 1, 3, 7)\n",
            "(-8, -6, 1, 6, 7)\n",
            "(-9, -7, -4, 9, 11)\n",
            "(-8, -6, -2, 7, 9)\n",
            "(-7, -5, -2, 3, 11)\n",
            "(-9, -5, -4, 7, 11)\n",
            "(-6, -3, 1, 2, 6)\n",
            "(-9, -6, -5, 9, 11)\n",
            "(-6, -4, -2, 3, 9)\n",
            "(-5, -3, -2, 1, 9)\n",
            "(-12, -8, 3, 6, 11)\n",
            "(-9, -5, -2, 7, 9)\n",
            "(-8, -5, 1, 3, 9)\n",
            "(-7, -5, 1, 2, 9)\n",
            "(-12, -5, 2, 6, 9)\n",
            "(-9, -7, 1, 6, 9)\n",
            "(-12, -5, -3, 9, 11)\n",
            "(-9, -4, -2, 6, 9)\n",
            "(-8, -5, -3, 7, 9)\n",
            "Total subsets:  25\n"
          ]
        },
        {
          "output_type": "stream",
          "name": "stderr",
          "text": [
            "<ipython-input-17-04ea356a339f>:7: DeprecationWarning: Sampling from a set deprecated\n",
            "since Python 3.9 and will be removed in a subsequent version.\n",
            "  m = r.sample(s,size)\n"
          ]
        }
      ]
    },
    {
      "cell_type": "markdown",
      "metadata": {
        "id": "Kaevs6ROim18"
      },
      "source": [
        "---\n",
        "####**3. Problem Statement:**\n",
        "Find all the subsets from a set of numbers whose sum is zero.\n",
        "\n",
        "####**Constraint: Subset size must be 3 to 6 only**\n",
        "Set={-12, -3, -6, 7, 2, -2, 6, 3, 9, -7, -5, -8, 1, 11, -9, -4}\n",
        "\n",
        "---"
      ]
    },
    {
      "cell_type": "code",
      "source": [
        "import random as r \n",
        "s = {-12, -3, -6, 7, 2, -2, 6, 3, 9, -7, -5, -8, 1, 11, -9, -4}\n",
        "lb = 3;\n",
        "ub = 5;\n",
        "result = set()\n",
        "n =  1000;\n",
        "for i in range(n):\n",
        "  size = r.randint(lb,ub)\n",
        "  m = r.sample(s,size)\n",
        "  m.sort()\n",
        "  if(sum(m)==0):\n",
        "    result.add(tuple(m))\n",
        "\n",
        "for i in result:\n",
        "  print(i)\n",
        "\n",
        "print(\"Total subsets: \",len(result))"
      ],
      "metadata": {
        "colab": {
          "base_uri": "https://localhost:8080/"
        },
        "id": "xM5QMHM1TxtA",
        "outputId": "cace74c5-6df8-41ce-8da7-446392a8485c"
      },
      "execution_count": 18,
      "outputs": [
        {
          "output_type": "stream",
          "name": "stdout",
          "text": [
            "(-12, -4, 1, 6, 9)\n",
            "(-9, 2, 7)\n",
            "(-12, -5, 6, 11)\n",
            "(-12, -5, 1, 7, 9)\n",
            "(-5, 2, 3)\n",
            "(-6, -2, 1, 7)\n",
            "(-12, 3, 9)\n",
            "(-6, -2, 2, 6)\n",
            "(-7, -3, 1, 9)\n",
            "(-5, -3, 2, 6)\n",
            "(-9, -2, 2, 9)\n",
            "(-6, -3, -2, 11)\n",
            "(-4, 1, 3)\n",
            "(-12, 1, 2, 3, 6)\n",
            "(-5, -3, 1, 7)\n",
            "(-7, -2, 9)\n",
            "(-12, 1, 11)\n",
            "(-12, -4, 7, 9)\n",
            "(-8, -2, 1, 9)\n",
            "(-8, 1, 7)\n",
            "(-8, 2, 6)\n",
            "(-7, -4, 11)\n",
            "(-4, -2, 6)\n",
            "(-7, -5, 1, 2, 9)\n",
            "(-6, -5, -4, 6, 9)\n",
            "(-5, -4, 9)\n",
            "(-8, -4, 3, 9)\n",
            "(-6, -3, 2, 7)\n",
            "(-7, -6, 2, 11)\n",
            "(-7, 1, 6)\n",
            "(-4, -3, 7)\n",
            "(-9, 3, 6)\n",
            "(-4, -3, 1, 6)\n",
            "(-3, 1, 2)\n",
            "Total subsets:  34\n"
          ]
        },
        {
          "output_type": "stream",
          "name": "stderr",
          "text": [
            "<ipython-input-18-5c24ba7ec780>:9: DeprecationWarning: Sampling from a set deprecated\n",
            "since Python 3.9 and will be removed in a subsequent version.\n",
            "  m = r.sample(s,size)\n"
          ]
        }
      ]
    }
  ]
}